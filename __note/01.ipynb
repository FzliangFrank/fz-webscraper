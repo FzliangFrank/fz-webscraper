{
 "cells": [
  {
   "cell_type": "markdown",
   "metadata": {},
   "source": [
    "---\n",
    "draft: True\n",
    "---"
   ]
  },
  {
   "cell_type": "code",
   "execution_count": 1,
   "metadata": {},
   "outputs": [],
   "source": [
    "from pathlib import Path \n",
    "import sys \n",
    "sys.path.append(str(Path(__name__).parent.parent))\n",
    "\n",
    "# from webscraper.scrapers.base import BaseScraper\n",
    "\n",
    "\n"
   ]
  },
  {
   "cell_type": "code",
   "execution_count": 6,
   "metadata": {},
   "outputs": [
    {
     "ename": "HTTPError",
     "evalue": "410 Client Error: Gone for url: https://www.rightmove.co.uk/properties/159472709#/?channel=RES_LET",
     "output_type": "error",
     "traceback": [
      "\u001b[31m---------------------------------------------------------------------------\u001b[39m",
      "\u001b[31mHTTPError\u001b[39m                                 Traceback (most recent call last)",
      "\u001b[36mCell\u001b[39m\u001b[36m \u001b[39m\u001b[32mIn[6]\u001b[39m\u001b[32m, line 9\u001b[39m\n\u001b[32m      5\u001b[39m headers = {\n\u001b[32m      6\u001b[39m    \u001b[33m'\u001b[39m\u001b[33mUser-Agent\u001b[39m\u001b[33m'\u001b[39m: \u001b[33m'\u001b[39m\u001b[33mMozilla/5.0 (Windows NT 10.0; Win64; x64) AppleWebKit/537.36 (KHTML, like Gecko) Chrome/91.0.4472.124 Safari/537.36\u001b[39m\u001b[33m'\u001b[39m\n\u001b[32m      7\u001b[39m }\n\u001b[32m      8\u001b[39m response = requests.get(url, headers=headers)\n\u001b[32m----> \u001b[39m\u001b[32m9\u001b[39m \u001b[43mresponse\u001b[49m\u001b[43m.\u001b[49m\u001b[43mraise_for_status\u001b[49m\u001b[43m(\u001b[49m\u001b[43m)\u001b[49m\n\u001b[32m     10\u001b[39m soup = BeautifulSoup(response.text, \u001b[33m'\u001b[39m\u001b[33mhtml.parser\u001b[39m\u001b[33m'\u001b[39m)\n",
      "\u001b[36mFile \u001b[39m\u001b[32m~/miniconda3/envs/webscraper/lib/python3.13/site-packages/requests/models.py:1024\u001b[39m, in \u001b[36mResponse.raise_for_status\u001b[39m\u001b[34m(self)\u001b[39m\n\u001b[32m   1019\u001b[39m     http_error_msg = (\n\u001b[32m   1020\u001b[39m         \u001b[33mf\u001b[39m\u001b[33m\"\u001b[39m\u001b[38;5;132;01m{\u001b[39;00m\u001b[38;5;28mself\u001b[39m.status_code\u001b[38;5;132;01m}\u001b[39;00m\u001b[33m Server Error: \u001b[39m\u001b[38;5;132;01m{\u001b[39;00mreason\u001b[38;5;132;01m}\u001b[39;00m\u001b[33m for url: \u001b[39m\u001b[38;5;132;01m{\u001b[39;00m\u001b[38;5;28mself\u001b[39m.url\u001b[38;5;132;01m}\u001b[39;00m\u001b[33m\"\u001b[39m\n\u001b[32m   1021\u001b[39m     )\n\u001b[32m   1023\u001b[39m \u001b[38;5;28;01mif\u001b[39;00m http_error_msg:\n\u001b[32m-> \u001b[39m\u001b[32m1024\u001b[39m     \u001b[38;5;28;01mraise\u001b[39;00m HTTPError(http_error_msg, response=\u001b[38;5;28mself\u001b[39m)\n",
      "\u001b[31mHTTPError\u001b[39m: 410 Client Error: Gone for url: https://www.rightmove.co.uk/properties/159472709#/?channel=RES_LET"
     ]
    }
   ],
   "source": [
    "from bs4 import BeautifulSoup, NavigableString\n",
    "import requests\n",
    "\n",
    "url = 'https://www.rightmove.co.uk/properties/159472709#/?channel=RES_LET'\n",
    "headers = {\n",
    "   'User-Agent': 'Mozilla/5.0 (Windows NT 10.0; Win64; x64) AppleWebKit/537.36 (KHTML, like Gecko) Chrome/91.0.4472.124 Safari/537.36'\n",
    "}\n",
    "response = requests.get(url, headers=headers)\n",
    "response.raise_for_status()\n",
    "soup = BeautifulSoup(response.text, 'html.parser')"
   ]
  },
  {
   "cell_type": "code",
   "execution_count": 7,
   "metadata": {},
   "outputs": [
    {
     "data": {
      "text/plain": [
       "[]"
      ]
     },
     "execution_count": 7,
     "metadata": {},
     "output_type": "execute_result"
    }
   ],
   "source": [
    "images = soup.find_all('img', {'data-object-fit': 'cover'})\n",
    "images_url = [img['src'] for img in images]\n",
    "images_url"
   ]
  },
  {
   "cell_type": "markdown",
   "metadata": {},
   "source": [
    "### Testing if SPARE ROOM is working correctly"
   ]
  },
  {
   "cell_type": "code",
   "execution_count": null,
   "metadata": {},
   "outputs": [
    {
     "data": {
      "text/plain": [
       "{'url': 'https://www.spareroom.co.uk/flatshare/london/london_n7/17320490',\n",
       " 'price': '£850 pcm',\n",
       " 'address': '?, London N7',\n",
       " 'bedrooms': 1,\n",
       " 'description': \"Large double room coming available on 1ts April in great International 4 bed Flat share. Council Tax/Water Rates/Broad Band ***INCLUDED***.Perfect for young professionals or mature students alike.Set on the top floor in a beautiful Grad II listed mansion block on the Caledonian Road, Islington its 2 minutes from the tube (Piccadilly Line) and many many bus routes.A four bedroom flat consisting of an OPEN PLAN KITCHEN/TV/LIVING ROOM, shower/bathroom, separate toilet, laundry room etc.The room comes fully furnished with Double, chest of drawers, desk, wardrobe/shelves etc.RENT INCLUDES BILLS FOR -40 MGb SKY BroadBand WiFi internetCouncil TaxWater RatesNo Agency or credit check Fee's, just one months rent in advance and a £500 deposit. Gas and elec are shared, combined its approx £25 per flatmate per month..Current tenants are English and International young professionals,  in late20's early 30's and are tidy, sociable and considerate flatmates .Call Paul (the live out landlord) to book an appointment, hurry though. double rooms in a friendly and clean flat share so close to transport will go fast!***Sorry no couples***\",\n",
       " 'availability': None,\n",
       " 'deposit': '£500.00',\n",
       " 'bills_included': None,\n",
       " 'images': ['https://photos2.spareroom.co.uk/images/flatshare/listings/large/92/14/92144443.jpg'],\n",
       " 'price_value': 850.0,\n",
       " 'price_frequency': 'monthly',\n",
       " 'deposit_value': 500.0,\n",
       " 'title': '1 Bedroom in ?, London N7'}"
      ]
     },
     "execution_count": 2,
     "metadata": {},
     "output_type": "execute_result"
    }
   ],
   "source": [
    "from webscraper.scrapers.spareroom import SpareRoomScraper\n",
    "from webscraper.config import load_config\n",
    "import re\n",
    "config = load_config()\n",
    "scraper = SpareRoomScraper(config[\"spareroom\"])\n",
    "url = \"https://www.spareroom.co.uk/flatshare/london/london_n7/17320490\"\n",
    "soup = scraper._get_page(url)\n",
    "scraper._extract_address(soup)\n",
    "# soup.find_all('dt',recursive=True, string=lambda x: 'deposit' in str(x).lower()) \n",
    "scraper.scrape(url)"
   ]
  },
  {
   "cell_type": "markdown",
   "metadata": {},
   "source": [
    "SPARE ROOM TESTING"
   ]
  },
  {
   "cell_type": "code",
   "execution_count": null,
   "metadata": {},
   "outputs": [],
   "source": [
    "import json\n",
    "json.dumps({\n",
    "    \"bedroom\": 1\n",
    "})\n",
    "from webscraper.config import load_config\n",
    "config = load_config()\n",
    "import webscraper\n",
    "from webscraper.scrapers.spareroom import SpareRoomScraper\n",
    "scraper = SpareRoomScraper(config[\"spareroom\"])\n",
    "scraper.scrape(\"https://www.spareroom.co.uk/flatshare/london/london_n7/17320490\")"
   ]
  },
  {
   "cell_type": "code",
   "execution_count": 179,
   "metadata": {},
   "outputs": [],
   "source": []
  },
  {
   "cell_type": "markdown",
   "metadata": {},
   "source": [
    "### Soup Limitation: Line Break will something not found\n",
    "\n",
    "whenever there are \"<br/>\" within a property extracting that imformation will became almost impossible"
   ]
  },
  {
   "cell_type": "code",
   "execution_count": 15,
   "metadata": {},
   "outputs": [
    {
     "name": "stdout",
     "output_type": "stream",
     "text": [
      "cannot find anything\n"
     ]
    }
   ],
   "source": [
    "from bs4 import BeautifulSoup\n",
    "soup = BeautifulSoup(r'''<h1>Hello</h1><p>Some paragram</p><p>another</p><p>here a new line <br> new line</p>''')\n",
    "try:\n",
    "    assert soup.find_all('p', string = lambda x: 'new line' in x), \"cannot find anything\"\n",
    "except Exception as e:\n",
    "    print(e)\n"
   ]
  },
  {
   "cell_type": "markdown",
   "metadata": {},
   "source": [
    "Annoyingly you still would not able to find anything"
   ]
  },
  {
   "cell_type": "code",
   "execution_count": 16,
   "metadata": {},
   "outputs": [
    {
     "name": "stdout",
     "output_type": "stream",
     "text": [
      "Still cannot find anything\n"
     ]
    }
   ],
   "source": [
    "\n",
    "try:\n",
    "    soup.find('br').decompose()\n",
    "    assert soup.find_all('p')[2], \"the thrid element is still here (this should not fail)\"\n",
    "    assert soup.find_all('p', string = lambda x: 'new line' in x), \"Still cannot find anything\"\n",
    "except Exception as e:\n",
    "    print(e)\n"
   ]
  },
  {
   "cell_type": "markdown",
   "metadata": {},
   "source": [
    "The *hack* is to recreate the soup"
   ]
  },
  {
   "cell_type": "code",
   "execution_count": null,
   "metadata": {},
   "outputs": [],
   "source": [
    "BeautifulSoup(str(soup)).find_all(string = lambda x: 'new line' in x)"
   ]
  },
  {
   "cell_type": "code",
   "execution_count": null,
   "metadata": {},
   "outputs": [],
   "source": []
  },
  {
   "cell_type": "code",
   "execution_count": null,
   "metadata": {},
   "outputs": [],
   "source": []
  },
  {
   "cell_type": "code",
   "execution_count": null,
   "metadata": {},
   "outputs": [],
   "source": [
    "soup.find_all('p', string = lambda x: 'new line' in x)\n"
   ]
  }
 ],
 "metadata": {
  "kernelspec": {
   "display_name": "webscraper",
   "language": "python",
   "name": "python3"
  },
  "language_info": {
   "codemirror_mode": {
    "name": "ipython",
    "version": 3
   },
   "file_extension": ".py",
   "mimetype": "text/x-python",
   "name": "python",
   "nbconvert_exporter": "python",
   "pygments_lexer": "ipython3",
   "version": "3.13.2"
  }
 },
 "nbformat": 4,
 "nbformat_minor": 2
}
