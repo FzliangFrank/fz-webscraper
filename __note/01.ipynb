{
 "cells": [
  {
   "cell_type": "markdown",
   "metadata": {},
   "source": [
    "---\n",
    "draft: True\n",
    "---"
   ]
  },
  {
   "cell_type": "code",
   "execution_count": 1,
   "metadata": {},
   "outputs": [],
   "source": [
    "from pathlib import Path \n",
    "import sys \n",
    "sys.path.append(str(Path(__name__).parent.parent))\n",
    "\n",
    "# from webscraper.scrapers.base import BaseScraper\n",
    "\n",
    "\n"
   ]
  },
  {
   "cell_type": "code",
   "execution_count": 2,
   "metadata": {},
   "outputs": [],
   "source": [
    "from bs4 import BeautifulSoup, NavigableString\n",
    "import requests\n",
    "\n",
    "url = 'https://www.rightmove.co.uk/properties/159472709#/?channel=RES_LET'\n",
    "headers = {\n",
    "   'User-Agent': 'Mozilla/5.0 (Windows NT 10.0; Win64; x64) AppleWebKit/537.36 (KHTML, like Gecko) Chrome/91.0.4472.124 Safari/537.36'\n",
    "}\n",
    "response = requests.get(url, headers=headers)\n",
    "response.raise_for_status()\n",
    "soup = BeautifulSoup(response.text, 'html.parser')"
   ]
  },
  {
   "cell_type": "code",
   "execution_count": 3,
   "metadata": {},
   "outputs": [
    {
     "data": {
      "text/plain": [
       "['https://media.rightmove.co.uk/97k/96668/159472709/96668_241930515032025_IMG_00_0000.jpeg',\n",
       " 'https://media.rightmove.co.uk/97k/96668/159472709/96668_241930515032025_IMG_01_0000.jpeg',\n",
       " 'https://media.rightmove.co.uk/97k/96668/159472709/96668_241930515032025_IMG_02_0000.jpeg']"
      ]
     },
     "execution_count": 3,
     "metadata": {},
     "output_type": "execute_result"
    }
   ],
   "source": [
    "images = soup.find_all('img', {'data-object-fit': 'cover'})\n",
    "images_url = [img['src'] for img in images]\n",
    "images_url"
   ]
  },
  {
   "cell_type": "markdown",
   "metadata": {},
   "source": [
    "SPARE ROOM"
   ]
  },
  {
   "cell_type": "code",
   "execution_count": 4,
   "metadata": {},
   "outputs": [
    {
     "name": "stdout",
     "output_type": "stream",
     "text": [
      "Extracting bedrooms with custom function\n"
     ]
    },
    {
     "data": {
      "text/plain": [
       "{'url': 'https://www.rightmove.co.uk/properties/159472709#/?channel=RES_LET',\n",
       " 'price': '£1,500 pcm',\n",
       " 'address': 'Drayton Park, London, N5',\n",
       " 'description': None,\n",
       " 'bedrooms': 1,\n",
       " 'property_type': None,\n",
       " 'agent': None,\n",
       " 'deposit': None,\n",
       " 'price_value': 1500.0,\n",
       " 'price_frequency': 'monthly',\n",
       " 'title': 'Drayton Park, London, N5'}"
      ]
     },
     "execution_count": 4,
     "metadata": {},
     "output_type": "execute_result"
    }
   ],
   "source": [
    "from webscraper.scrapers.rightmove import RightmoveScraper\n",
    "from webscraper.config import load_config\n",
    "config = load_config()\n",
    "scraper = RightmoveScraper(config[\"rightmove\"])\n",
    "scraper.scrape(\"https://www.rightmove.co.uk/properties/159472709#/?channel=RES_LET\")\n"
   ]
  },
  {
   "cell_type": "code",
   "execution_count": null,
   "metadata": {},
   "outputs": [
    {
     "ename": "NameError",
     "evalue": "name 'load_config' is not defined",
     "output_type": "error",
     "traceback": [
      "\u001b[31m---------------------------------------------------------------------------\u001b[39m",
      "\u001b[31mNameError\u001b[39m                                 Traceback (most recent call last)",
      "\u001b[36mCell\u001b[39m\u001b[36m \u001b[39m\u001b[32mIn[1]\u001b[39m\u001b[32m, line 1\u001b[39m\n\u001b[32m----> \u001b[39m\u001b[32m1\u001b[39m config = \u001b[43mload_config\u001b[49m()\n\u001b[32m      2\u001b[39m config\n",
      "\u001b[31mNameError\u001b[39m: name 'load_config' is not defined"
     ]
    }
   ],
   "source": [
    "\n",
    "config = load_config()\n",
    "config"
   ]
  },
  {
   "cell_type": "code",
   "execution_count": 10,
   "metadata": {},
   "outputs": [
    {
     "data": {
      "text/plain": [
       "{'type': 'property_listing',\n",
       " 'extractors': {'price': {'type': 'pattern',\n",
       "   'pattern': '£[\\\\d,]+(?:\\\\s*pcm)?',\n",
       "   'tag': 'span'},\n",
       "  'address': {'type': 'css', 'selector': 'h2[id=\"mapTitleScrollAnchor\"]'},\n",
       "  'description': {'type': 'css', 'selector': '.description'},\n",
       "  'bedrooms': {'type': '*'},\n",
       "  'property_type': {'type': 'css', 'selector': '.property-type'},\n",
       "  'agent': {'type': 'css', 'selector': '.agent-name'},\n",
       "  'deposit': {'type': 'css', 'selector': '.deposit-amount'}}}"
      ]
     },
     "execution_count": 10,
     "metadata": {},
     "output_type": "execute_result"
    }
   ],
   "source": [
    "config[\"rightmove\"]"
   ]
  },
  {
   "cell_type": "markdown",
   "metadata": {},
   "source": [
    "SPARE ROOM TESTING"
   ]
  },
  {
   "cell_type": "code",
   "execution_count": 3,
   "metadata": {},
   "outputs": [],
   "source": [
    "url = \"https://www.spareroom.co.uk/flatshare/london/london_n7/17320490\"\n",
    "response = requests.get(url, headers=headers)\n",
    "response.raise_for_status()\n",
    "soup = BeautifulSoup(response.text, 'html.parser')"
   ]
  },
  {
   "cell_type": "code",
   "execution_count": 4,
   "metadata": {},
   "outputs": [
    {
     "name": "stdout",
     "output_type": "stream",
     "text": [
      "Extracting address with custom function\n"
     ]
    },
    {
     "data": {
      "text/plain": [
       "{'url': 'https://www.spareroom.co.uk/flatshare/london/london_n7/17320490',\n",
       " 'price': '£950 pcm',\n",
       " 'address': 'Caledonian Road Station Tube map 0-5 minutes walk away, London N7',\n",
       " 'property_type': None,\n",
       " 'bedrooms': None,\n",
       " 'description': None,\n",
       " 'availability': None,\n",
       " 'deposit': None,\n",
       " 'bills_included': None,\n",
       " 'price_value': 950.0,\n",
       " 'price_frequency': 'monthly',\n",
       " 'title': 'in Caledonian Road Station Tube map 0-5 minutes walk away, London N7'}"
      ]
     },
     "execution_count": 4,
     "metadata": {},
     "output_type": "execute_result"
    }
   ],
   "source": [
    "import json\n",
    "json.dumps({\n",
    "    \"bedroom\": 1\n",
    "})\n",
    "from webscraper.config import load_config\n",
    "config = load_config()\n",
    "import webscraper\n",
    "from webscraper.scrapers.spareroom import SpareRoomScraper\n",
    "scraper = SpareRoomScraper(config[\"spareroom\"])\n",
    "scraper.scrape(\"https://www.spareroom.co.uk/flatshare/london/london_n7/17320490\")"
   ]
  }
 ],
 "metadata": {
  "kernelspec": {
   "display_name": "webscraper",
   "language": "python",
   "name": "python3"
  },
  "language_info": {
   "codemirror_mode": {
    "name": "ipython",
    "version": 3
   },
   "file_extension": ".py",
   "mimetype": "text/x-python",
   "name": "python",
   "nbconvert_exporter": "python",
   "pygments_lexer": "ipython3",
   "version": "3.13.2"
  }
 },
 "nbformat": 4,
 "nbformat_minor": 2
}
