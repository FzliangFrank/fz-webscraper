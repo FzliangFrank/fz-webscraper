{
 "cells": [
  {
   "cell_type": "markdown",
   "metadata": {},
   "source": [
    "---\n",
    "title: \"Create House Hunt snapping tool using Notion + Appshortcut\"\n",
    "author: F. L\n",
    "date: 2025-04-13\n",
    "draft: true\n",
    "---\n",
    "\n",
    "\n",
    "# Introduction\n",
    "\n",
    "\n"
   ]
  },
  {
   "cell_type": "code",
   "execution_count": null,
   "metadata": {
    "vscode": {
     "languageId": "plaintext"
    }
   },
   "outputs": [],
   "source": []
  }
 ],
 "metadata": {
  "language_info": {
   "name": "python"
  }
 },
 "nbformat": 4,
 "nbformat_minor": 2
}
